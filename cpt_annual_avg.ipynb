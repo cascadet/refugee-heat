{
 "cells": [
  {
   "cell_type": "markdown",
   "id": "76463f1b-ae12-450b-9b29-0fbf5c7ea6d1",
   "metadata": {},
   "source": [
    "# Annual Avg\n",
    "Cascade Tuholske Aug. 2024  \n",
    "\n",
    "Notebook to stack daily climate data and find the annual average of the data."
   ]
  },
  {
   "cell_type": "code",
   "execution_count": 1,
   "id": "5b39effe-70bf-4bce-9f97-1ef12d2ae3e1",
   "metadata": {},
   "outputs": [],
   "source": [
    "# Dependencies\n",
    "import os\n",
    "import glob\n",
    "import dask\n",
    "import xarray as xr\n",
    "import numpy as np\n",
    "import rioxarray \n",
    "import rasterio\n",
    "import matplotlib.pyplot as plt\n",
    "import pandas as pd\n",
    "from dask.distributed import Client, LocalCluster"
   ]
  },
  {
   "cell_type": "code",
   "execution_count": 2,
   "id": "7520ef46-1d8c-4217-9622-5e0c590323e1",
   "metadata": {},
   "outputs": [
    {
     "name": "stdout",
     "output_type": "stream",
     "text": [
      "/home/cascade/CHIRTS/UHE-daily/wbgtmax/2016/wbgtmax.2016.01.01.tif\n",
      "366\n"
     ]
    }
   ],
   "source": [
    "# Files\n",
    "year = '2016'\n",
    "path = os.path.join('/home/cascade/CHIRTS/UHE-daily/wbgtmax/')\n",
    "fns = sorted(glob.glob(path + str(year) + '/*.tif'))\n",
    "print(fns[0])\n",
    "print(len(fns))"
   ]
  },
  {
   "cell_type": "code",
   "execution_count": null,
   "id": "cfc5fa7a-eec0-4d05-b15c-9592a112c4a1",
   "metadata": {},
   "outputs": [],
   "source": [
    "# Start Dask Cluster \n",
    "cluster = LocalCluster(n_workers=20, threads_per_worker = 1)\n",
    "client = Client(cluster)"
   ]
  },
  {
   "cell_type": "code",
   "execution_count": null,
   "id": "11bf4919-c6b2-4a55-a2eb-21775f6134d1",
   "metadata": {},
   "outputs": [],
   "source": [
    "# Open rasters as Dask Arrays in an Xarray Dataset \n",
    "\n",
    "def open_raster(filepath):\n",
    "    return rioxarray.open_rasterio(filepath, chunks='auto')\n",
    "\n",
    "# Open the raster files individually\n",
    "datasets = [open_raster(fn) for fn in fns]\n",
    "\n",
    "# Combine the datasets\n",
    "combined = xr.concat(datasets, dim='band')  # Adjust 'dim' as per your requirement"
   ]
  },
  {
   "cell_type": "code",
   "execution_count": null,
   "id": "7b67415b-fe93-4c58-ba05-f68c9dfd4d3f",
   "metadata": {},
   "outputs": [],
   "source": [
    "# Check the data\n",
    "combined"
   ]
  },
  {
   "cell_type": "code",
   "execution_count": null,
   "id": "a981467a-4554-4995-b322-8c819302832e",
   "metadata": {},
   "outputs": [],
   "source": [
    "# get the mean\n",
    "mean = combined.mean(dim = 'band').compute()"
   ]
  },
  {
   "cell_type": "code",
   "execution_count": null,
   "id": "65478e03-c578-405b-9e48-20c002cbcae9",
   "metadata": {},
   "outputs": [],
   "source": [
    "# Check the data\n",
    "plt.imshow(mean.data)\n",
    "plt.colorbar()"
   ]
  },
  {
   "cell_type": "code",
   "execution_count": null,
   "id": "925330b7-e432-4892-8b26-752e07a6401e",
   "metadata": {},
   "outputs": [],
   "source": [
    "mean.data"
   ]
  },
  {
   "cell_type": "code",
   "execution_count": null,
   "id": "58ea2d05-3d8f-4e4d-b0f8-043a23e548a9",
   "metadata": {},
   "outputs": [],
   "source": [
    "# Get data to write out \n",
    "arr_out = np.nan_to_num(mean, nan = -9999)\n",
    "arr_out"
   ]
  },
  {
   "cell_type": "code",
   "execution_count": null,
   "id": "5a84ae27-cdb0-45c3-b355-eead35c67c19",
   "metadata": {
    "scrolled": true
   },
   "outputs": [],
   "source": [
    "# meta data\n",
    "meta = rasterio.open(fns[0]).meta\n",
    "meta['nodata'] = -9999\n",
    "meta"
   ]
  },
  {
   "cell_type": "code",
   "execution_count": null,
   "id": "8c4cdc27-1112-4b93-959f-44047bd44aef",
   "metadata": {},
   "outputs": [],
   "source": [
    "# write it out \n",
    "fn_out = os.path.join('../data/Nina-PNAS-Data/GHE-wbgtmax-avg-' + str(year) + '.tif')\n",
    "with rasterio.open(fn_out, 'w', **meta) as out:\n",
    "    out.write_band(1, arr_out)"
   ]
  },
  {
   "cell_type": "code",
   "execution_count": null,
   "id": "8c423974-f117-492f-ae50-aaa6a6a7646f",
   "metadata": {},
   "outputs": [],
   "source": [
    "# shut down the cluster\n",
    "client.close()"
   ]
  }
 ],
 "metadata": {
  "kernelspec": {
   "display_name": "geo",
   "language": "python",
   "name": "geo"
  },
  "language_info": {
   "codemirror_mode": {
    "name": "ipython",
    "version": 3
   },
   "file_extension": ".py",
   "mimetype": "text/x-python",
   "name": "python",
   "nbconvert_exporter": "python",
   "pygments_lexer": "ipython3",
   "version": "3.6.7"
  }
 },
 "nbformat": 4,
 "nbformat_minor": 5
}
