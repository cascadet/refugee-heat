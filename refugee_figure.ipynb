{
 "cells": [
  {
   "cell_type": "markdown",
   "id": "a6384e93-5a3b-49c8-882e-11209e341f62",
   "metadata": {},
   "source": [
    "# Refugee Figure\n",
    "Cascade Tuholske, cascade (dot) tuholske1 (at) montana (dot) edu \n",
    "\n",
    "Notebook to find the area-average ten-year average count for heat for global refugee camps with CHC-CMIP6 data from steps 01 to 03. "
   ]
  },
  {
   "cell_type": "code",
   "execution_count": 2,
   "id": "ebfabb8b-c19e-43f2-9a2c-dcd3f5d8f410",
   "metadata": {},
   "outputs": [],
   "source": [
    "# Dependencies \n",
    "import numpy as np\n",
    "import xarray \n",
    "import os\n",
    "import glob\n",
    "import rasterio\n",
    "import matplotlib.pyplot as plt\n",
    "import rasterstats\n",
    "import geopandas as gpd\n",
    "import xarray as xr\n",
    "from rasterstats import zonal_stats\n",
    "from matplotlib import rcParams\n",
    "import matplotlib.colors as mcolors\n",
    "from shapely.geometry import Point\n",
    "import matplotlib.gridspec as gridspec\n",
    "from matplotlib import cm\n",
    "from mpl_toolkits.axes_grid1.inset_locator import inset_axes, mark_inset, zoomed_inset_axes\n",
    "import matplotlib.patches as patches\n",
    "from matplotlib.colors import Normalize\n",
    "from rasterio.plot import show"
   ]
  },
  {
   "cell_type": "code",
   "execution_count": null,
   "id": "3cdd4adc-b61c-49a5-a6c1-9abb6f579483",
   "metadata": {},
   "outputs": [],
   "source": [
    "# set up \n",
    "ssp = 'obs' #'2050_SSP585', obs, '2050_SSP245'\n",
    "col = 'obs' # no _\n",
    "data = 'wbgtmax'\n",
    "thresh = '30'"
   ]
  },
  {
   "cell_type": "code",
   "execution_count": null,
   "id": "35486068-1e60-4e28-8e9e-46661e7a68df",
   "metadata": {},
   "outputs": [],
   "source": [
    "# Fix zeros\n",
    "fn_in = os.path.join('../data/processed/CHC-CMIP6/CASA/interim/obs.wbgtmax30.avg_count_07-16.tif')\n",
    "arr = rasterio.open(fn_in).read(1)  # Open raster\n",
    "arr = np.where(arr == 0, -9999, arr)\n",
    "fn_out = os.path.join('../data/processed/CHC-CMIP6/CASA/interim/obs.wbgtmax30.avg_count_07-16_zeros.tif')\n",
    "meta = rasterio.open(fn_in).meta\n",
    "with rasterio.open(fn_out, 'w', **meta) as dst:\n",
    "    dst.write(arr, 1)  # Write the modified data back to the same file"
   ]
  },
  {
   "cell_type": "code",
   "execution_count": null,
   "id": "3ef26e96-fcfd-4a8b-9238-8409e273d4c4",
   "metadata": {},
   "outputs": [],
   "source": [
    "# Fix zeros\n",
    "fn_in = os.path.join('../data/processed/CHC-CMIP6/CASA/interim/2050_SSP245.wbgtmax30.avg_count_07-16.tif')\n",
    "arr = rasterio.open(fn_in).read(1)  # Open raster\n",
    "arr = np.where(arr == 0, -9999, arr)\n",
    "fn_out = os.path.join('../data/processed/CHC-CMIP6/CASA/interim/2050_SSP245.wbgtmax30.avg_count_07-16_zeros.tif')\n",
    "meta = rasterio.open(fn_in).meta\n",
    "with rasterio.open(fn_out, 'w', **meta) as dst:\n",
    "    dst.write(arr, 1)  # Write the modified data back to the same file"
   ]
  },
  {
   "cell_type": "markdown",
   "id": "d11042b9-e1ea-4fe5-a1d8-42ab80b2504c",
   "metadata": {},
   "source": [
    "## Zonal Stats\n",
    "Extract the data from the 10 year avg counts for observational data ans SSP projecitons. This step needs to be done twice."
   ]
  },
  {
   "cell_type": "code",
   "execution_count": null,
   "id": "fd89dfe9",
   "metadata": {},
   "outputs": [],
   "source": [
    "# set up \n",
    "ssp = 'obs' #'2050_SSP585', obs, '2050_SSP245'\n",
    "col = 'obs' # no _\n",
    "data = 'wbgtmax'\n",
    "thresh = '30'"
   ]
  },
  {
   "cell_type": "code",
   "execution_count": null,
   "id": "18301404",
   "metadata": {},
   "outputs": [],
   "source": [
    "# files\n",
    "path_in = os.path.join('') # path to counts\n",
    "fn_in = os.path.join(path_in + ' ' + ssp + '.' + data + thresh + '.avg_count_07-16.tif')\n",
    "fn_out = os.path.join(path_in + + ssp + '.' + data + thresh + '.avg_count_07-16.shp')"
   ]
  },
  {
   "cell_type": "code",
   "execution_count": null,
   "id": "247ef6de-e4f3-4428-9bef-fd79077615ed",
   "metadata": {},
   "outputs": [],
   "source": [
    "# Open refugee locations\n",
    "gdf_fn = os.path.join('./wrl_prp_p_unhcr_refugees_noLBN_onlySettlements-2024_02.geojson')\n",
    "gdf = gpd.read_file(gdf_fn)\n",
    "gdf.head(1)"
   ]
  },
  {
   "cell_type": "code",
   "execution_count": null,
   "id": "5420fc71",
   "metadata": {
    "scrolled": true
   },
   "outputs": [],
   "source": [
    "# check crs of polys\n",
    "gdf.crs"
   ]
  },
  {
   "cell_type": "code",
   "execution_count": null,
   "id": "297cb10f",
   "metadata": {},
   "outputs": [],
   "source": [
    "# check rst crs\n",
    "rst_crs = rasterio.open(fn_in).crs\n",
    "rst_crs"
   ]
  },
  {
   "cell_type": "code",
   "execution_count": null,
   "id": "9e5c62f4",
   "metadata": {},
   "outputs": [],
   "source": [
    "# reproject polys if needed\n",
    "# gdf.to_crs(rst_crs, inplace = True) # project to raster crs\n",
    "# gdf.crs"
   ]
  },
  {
   "cell_type": "code",
   "execution_count": null,
   "id": "9dc36f82-8659-441e-97e7-db9e2068945a",
   "metadata": {},
   "outputs": [],
   "source": [
    "# subset columns needed\n",
    "polys_in = gdf[['pcode', 'geometry']]\n",
    "polys_in.head(1)"
   ]
  },
  {
   "cell_type": "code",
   "execution_count": null,
   "id": "78781d78-d56a-4fd4-beb7-7e5975d30ca5",
   "metadata": {
    "scrolled": true
   },
   "outputs": [],
   "source": [
    "# Run zonal stats\n",
    "stats_type = 'mean'\n",
    "zs_feats = zonal_stats(polys_in, fn_in, stats=stats_type, geojson_out=True)\n",
    "zgdf = gpd.GeoDataFrame.from_features(zs_feats, crs=polys_in.crs)"
   ]
  },
  {
   "cell_type": "code",
   "execution_count": null,
   "id": "701a0f4d-f374-452d-86ab-feb8000f1bd8",
   "metadata": {},
   "outputs": [],
   "source": [
    "# check the data\n",
    "plt.hist(zgdf['mean'])"
   ]
  },
  {
   "cell_type": "code",
   "execution_count": null,
   "id": "ef64dda6-237a-4493-9255-6c13ffcc83a7",
   "metadata": {},
   "outputs": [],
   "source": [
    "# rename column\n",
    "zgdf.rename(columns = {'mean' : col}, inplace = True)\n",
    "zgdf"
   ]
  },
  {
   "cell_type": "code",
   "execution_count": null,
   "id": "179e9a02-3d33-448d-b648-0a94f6d95899",
   "metadata": {
    "scrolled": true
   },
   "outputs": [],
   "source": [
    "# check the data\n",
    "plt.style.use('seaborn-v0_8-white')\n",
    "zgdf.plot(col, cmap = 'viridis')\n",
    "#plt.xlim(97,115)\n",
    "#plt.ylim(-5,15)"
   ]
  },
  {
   "cell_type": "code",
   "execution_count": null,
   "id": "f0eadaab",
   "metadata": {},
   "outputs": [],
   "source": [
    "# add a fake row for plotting\n",
    "# zgdf = zgdf.append({'geometry' : Point(-100,-100), 'pcode' : 'fake', col : 365}, ignore_index=True)\n",
    "# zgdf.tail()"
   ]
  },
  {
   "cell_type": "code",
   "execution_count": null,
   "id": "5489cfc7-9123-4c62-bc7e-a4d974142ddb",
   "metadata": {},
   "outputs": [],
   "source": [
    "# Save It Out\n",
    "gdf_out = os.path.join(fn_out) # remove period '.' for Tmax obs\n",
    "zgdf.to_file(gdf_out, index=False)"
   ]
  },
  {
   "cell_type": "markdown",
   "id": "edbd7f21",
   "metadata": {},
   "source": [
    "# Check Data"
   ]
  },
  {
   "cell_type": "code",
   "execution_count": null,
   "id": "fb5b940a",
   "metadata": {},
   "outputs": [],
   "source": [
    "obs = gpd.read_file(os.path.join(path_out + 'obs.wbgtmax30.avg_count_07-16.shp'))\n",
    "ssp245 = gpd.read_file(os.path.join(path_out +  '2050_SSP245.wbgtmax30.avg_count_07-16.shp'))"
   ]
  },
  {
   "cell_type": "code",
   "execution_count": null,
   "id": "8294d28c",
   "metadata": {},
   "outputs": [],
   "source": [
    "obs[obs['obs'].isna()]"
   ]
  },
  {
   "cell_type": "code",
   "execution_count": null,
   "id": "77418f13",
   "metadata": {},
   "outputs": [],
   "source": [
    "ssp245[ssp245['2050SSP245'].isna()]"
   ]
  },
  {
   "cell_type": "code",
   "execution_count": null,
   "id": "67e3dc1b",
   "metadata": {},
   "outputs": [],
   "source": [
    "# Fix zeros\n",
    "fn_in = os.path.join('../data/processed/CHC-CMIP6/CASA/interim/obs.wbgtmax30.avg_count_07-16.tif')\n",
    "arr = rasterio.open(fn_in).read(1)  # Open raster\n",
    "arr = np.where(arr == 0, -9999, arr)\n",
    "fn_out = os.path.join('../data/processed/CHC-CMIP6/CASA/interim/obs.wbgtmax30.avg_count_07-16_zeros.tif')\n",
    "meta = rasterio.open(fn_in).meta\n",
    "with rasterio.open(fn_out, 'w', **meta) as dst:\n",
    "    dst.write(arr, 1)  # Write the modified data back to the same file"
   ]
  },
  {
   "cell_type": "code",
   "execution_count": null,
   "id": "5e0927a6",
   "metadata": {},
   "outputs": [],
   "source": [
    "# Fix zeros\n",
    "fn_in = os.path.join('../data/processed/CHC-CMIP6/CASA/interim/2050_SSP245.wbgtmax30.avg_count_07-16.tif')\n",
    "arr = rasterio.open(fn_in).read(1)  # Open raster\n",
    "arr = np.where(arr == 0, -9999, arr)\n",
    "fn_out = os.path.join('../data/processed/CHC-CMIP6/CASA/interim/2050_SSP245.wbgtmax30.avg_count_07-16_zeros.tif')\n",
    "meta = rasterio.open(fn_in).meta\n",
    "with rasterio.open(fn_out, 'w', **meta) as dst:\n",
    "    dst.write(arr, 1)  # Write the modified data back to the same file"
   ]
  },
  {
   "cell_type": "markdown",
   "id": "e198d5dd",
   "metadata": {},
   "source": [
    "# Plot"
   ]
  },
  {
   "cell_type": "code",
   "execution_count": 7,
   "id": "c36bcb2f",
   "metadata": {},
   "outputs": [
    {
     "ename": "DriverError",
     "evalue": "../../grp-ct/data/processed/CHC-CMIP6/refugees/2050_SSP245.wbgtmax30.avg_count_07-16.shp: No such file or directory",
     "output_type": "error",
     "traceback": [
      "\u001b[0;31m---------------------------------------------------------------------------\u001b[0m",
      "\u001b[0;31mCPLE_OpenFailedError\u001b[0m                      Traceback (most recent call last)",
      "File \u001b[0;32mfiona/ogrext.pyx:136\u001b[0m, in \u001b[0;36mfiona.ogrext.gdal_open_vector\u001b[0;34m()\u001b[0m\n",
      "File \u001b[0;32mfiona/_err.pyx:291\u001b[0m, in \u001b[0;36mfiona._err.exc_wrap_pointer\u001b[0;34m()\u001b[0m\n",
      "\u001b[0;31mCPLE_OpenFailedError\u001b[0m: ../../grp-ct/data/processed/CHC-CMIP6/refugees/2050_SSP245.wbgtmax30.avg_count_07-16.shp: No such file or directory",
      "\nDuring handling of the above exception, another exception occurred:\n",
      "\u001b[0;31mDriverError\u001b[0m                               Traceback (most recent call last)",
      "Cell \u001b[0;32mIn[7], line 4\u001b[0m\n\u001b[1;32m      2\u001b[0m countries \u001b[38;5;241m=\u001b[39m gpd\u001b[38;5;241m.\u001b[39mread_file(\u001b[38;5;124m'\u001b[39m\u001b[38;5;124m./ne_10m_admin_0_countries/ne_10m_admin_0_countries.shp\u001b[39m\u001b[38;5;124m'\u001b[39m)\n\u001b[1;32m      3\u001b[0m obs \u001b[38;5;241m=\u001b[39m gpd\u001b[38;5;241m.\u001b[39mread_file(os\u001b[38;5;241m.\u001b[39mpath\u001b[38;5;241m.\u001b[39mjoin(\u001b[38;5;124m'\u001b[39m\u001b[38;5;124m../../grp-ct/data/processed/CHC-CMIP6/refugees/himax41-2007-2016-ssp245.shp\u001b[39m\u001b[38;5;124m'\u001b[39m))\n\u001b[0;32m----> 4\u001b[0m ssp245 \u001b[38;5;241m=\u001b[39m \u001b[43mgpd\u001b[49m\u001b[38;5;241;43m.\u001b[39;49m\u001b[43mread_file\u001b[49m\u001b[43m(\u001b[49m\u001b[43mos\u001b[49m\u001b[38;5;241;43m.\u001b[39;49m\u001b[43mpath\u001b[49m\u001b[38;5;241;43m.\u001b[39;49m\u001b[43mjoin\u001b[49m\u001b[43m(\u001b[49m\u001b[38;5;124;43m'\u001b[39;49m\u001b[38;5;124;43m../../grp-ct/data/processed/CHC-CMIP6/refugees/2050_SSP245.wbgtmax30.avg_count_07-16.shp\u001b[39;49m\u001b[38;5;124;43m'\u001b[39;49m\u001b[43m)\u001b[49m\u001b[43m)\u001b[49m\n",
      "File \u001b[0;32m/mnt/shared/moduleapps/EarthSci/Python-3.9.15-Mamba/lib/python3.9/site-packages/geopandas/io/file.py:297\u001b[0m, in \u001b[0;36m_read_file\u001b[0;34m(filename, bbox, mask, rows, engine, **kwargs)\u001b[0m\n\u001b[1;32m    294\u001b[0m     \u001b[38;5;28;01melse\u001b[39;00m:\n\u001b[1;32m    295\u001b[0m         path_or_bytes \u001b[38;5;241m=\u001b[39m filename\n\u001b[0;32m--> 297\u001b[0m     \u001b[38;5;28;01mreturn\u001b[39;00m \u001b[43m_read_file_fiona\u001b[49m\u001b[43m(\u001b[49m\n\u001b[1;32m    298\u001b[0m \u001b[43m        \u001b[49m\u001b[43mpath_or_bytes\u001b[49m\u001b[43m,\u001b[49m\u001b[43m \u001b[49m\u001b[43mfrom_bytes\u001b[49m\u001b[43m,\u001b[49m\u001b[43m \u001b[49m\u001b[43mbbox\u001b[49m\u001b[38;5;241;43m=\u001b[39;49m\u001b[43mbbox\u001b[49m\u001b[43m,\u001b[49m\u001b[43m \u001b[49m\u001b[43mmask\u001b[49m\u001b[38;5;241;43m=\u001b[39;49m\u001b[43mmask\u001b[49m\u001b[43m,\u001b[49m\u001b[43m \u001b[49m\u001b[43mrows\u001b[49m\u001b[38;5;241;43m=\u001b[39;49m\u001b[43mrows\u001b[49m\u001b[43m,\u001b[49m\u001b[43m \u001b[49m\u001b[38;5;241;43m*\u001b[39;49m\u001b[38;5;241;43m*\u001b[39;49m\u001b[43mkwargs\u001b[49m\n\u001b[1;32m    299\u001b[0m \u001b[43m    \u001b[49m\u001b[43m)\u001b[49m\n\u001b[1;32m    301\u001b[0m \u001b[38;5;28;01melse\u001b[39;00m:\n\u001b[1;32m    302\u001b[0m     \u001b[38;5;28;01mraise\u001b[39;00m \u001b[38;5;167;01mValueError\u001b[39;00m(\u001b[38;5;124mf\u001b[39m\u001b[38;5;124m\"\u001b[39m\u001b[38;5;124munknown engine \u001b[39m\u001b[38;5;124m'\u001b[39m\u001b[38;5;132;01m{\u001b[39;00mengine\u001b[38;5;132;01m}\u001b[39;00m\u001b[38;5;124m'\u001b[39m\u001b[38;5;124m\"\u001b[39m)\n",
      "File \u001b[0;32m/mnt/shared/moduleapps/EarthSci/Python-3.9.15-Mamba/lib/python3.9/site-packages/geopandas/io/file.py:338\u001b[0m, in \u001b[0;36m_read_file_fiona\u001b[0;34m(path_or_bytes, from_bytes, bbox, mask, rows, where, **kwargs)\u001b[0m\n\u001b[1;32m    335\u001b[0m     reader \u001b[38;5;241m=\u001b[39m fiona\u001b[38;5;241m.\u001b[39mopen\n\u001b[1;32m    337\u001b[0m \u001b[38;5;28;01mwith\u001b[39;00m fiona_env():\n\u001b[0;32m--> 338\u001b[0m     \u001b[38;5;28;01mwith\u001b[39;00m \u001b[43mreader\u001b[49m\u001b[43m(\u001b[49m\u001b[43mpath_or_bytes\u001b[49m\u001b[43m,\u001b[49m\u001b[43m \u001b[49m\u001b[38;5;241;43m*\u001b[39;49m\u001b[38;5;241;43m*\u001b[39;49m\u001b[43mkwargs\u001b[49m\u001b[43m)\u001b[49m \u001b[38;5;28;01mas\u001b[39;00m features:\n\u001b[1;32m    339\u001b[0m         crs \u001b[38;5;241m=\u001b[39m features\u001b[38;5;241m.\u001b[39mcrs_wkt\n\u001b[1;32m    340\u001b[0m         \u001b[38;5;66;03m# attempt to get EPSG code\u001b[39;00m\n",
      "File \u001b[0;32m/mnt/shared/moduleapps/EarthSci/Python-3.9.15-Mamba/lib/python3.9/site-packages/fiona/env.py:457\u001b[0m, in \u001b[0;36mensure_env_with_credentials.<locals>.wrapper\u001b[0;34m(*args, **kwds)\u001b[0m\n\u001b[1;32m    454\u001b[0m     session \u001b[38;5;241m=\u001b[39m DummySession()\n\u001b[1;32m    456\u001b[0m \u001b[38;5;28;01mwith\u001b[39;00m env_ctor(session\u001b[38;5;241m=\u001b[39msession):\n\u001b[0;32m--> 457\u001b[0m     \u001b[38;5;28;01mreturn\u001b[39;00m \u001b[43mf\u001b[49m\u001b[43m(\u001b[49m\u001b[38;5;241;43m*\u001b[39;49m\u001b[43margs\u001b[49m\u001b[43m,\u001b[49m\u001b[43m \u001b[49m\u001b[38;5;241;43m*\u001b[39;49m\u001b[38;5;241;43m*\u001b[39;49m\u001b[43mkwds\u001b[49m\u001b[43m)\u001b[49m\n",
      "File \u001b[0;32m/mnt/shared/moduleapps/EarthSci/Python-3.9.15-Mamba/lib/python3.9/site-packages/fiona/__init__.py:335\u001b[0m, in \u001b[0;36mopen\u001b[0;34m(fp, mode, driver, schema, crs, encoding, layer, vfs, enabled_drivers, crs_wkt, allow_unsupported_drivers, **kwargs)\u001b[0m\n\u001b[1;32m    332\u001b[0m     path \u001b[38;5;241m=\u001b[39m parse_path(fp)\n\u001b[1;32m    334\u001b[0m \u001b[38;5;28;01mif\u001b[39;00m mode \u001b[38;5;129;01min\u001b[39;00m (\u001b[38;5;124m\"\u001b[39m\u001b[38;5;124ma\u001b[39m\u001b[38;5;124m\"\u001b[39m, \u001b[38;5;124m\"\u001b[39m\u001b[38;5;124mr\u001b[39m\u001b[38;5;124m\"\u001b[39m):\n\u001b[0;32m--> 335\u001b[0m     colxn \u001b[38;5;241m=\u001b[39m \u001b[43mCollection\u001b[49m\u001b[43m(\u001b[49m\n\u001b[1;32m    336\u001b[0m \u001b[43m        \u001b[49m\u001b[43mpath\u001b[49m\u001b[43m,\u001b[49m\n\u001b[1;32m    337\u001b[0m \u001b[43m        \u001b[49m\u001b[43mmode\u001b[49m\u001b[43m,\u001b[49m\n\u001b[1;32m    338\u001b[0m \u001b[43m        \u001b[49m\u001b[43mdriver\u001b[49m\u001b[38;5;241;43m=\u001b[39;49m\u001b[43mdriver\u001b[49m\u001b[43m,\u001b[49m\n\u001b[1;32m    339\u001b[0m \u001b[43m        \u001b[49m\u001b[43mencoding\u001b[49m\u001b[38;5;241;43m=\u001b[39;49m\u001b[43mencoding\u001b[49m\u001b[43m,\u001b[49m\n\u001b[1;32m    340\u001b[0m \u001b[43m        \u001b[49m\u001b[43mlayer\u001b[49m\u001b[38;5;241;43m=\u001b[39;49m\u001b[43mlayer\u001b[49m\u001b[43m,\u001b[49m\n\u001b[1;32m    341\u001b[0m \u001b[43m        \u001b[49m\u001b[43menabled_drivers\u001b[49m\u001b[38;5;241;43m=\u001b[39;49m\u001b[43menabled_drivers\u001b[49m\u001b[43m,\u001b[49m\n\u001b[1;32m    342\u001b[0m \u001b[43m        \u001b[49m\u001b[43mallow_unsupported_drivers\u001b[49m\u001b[38;5;241;43m=\u001b[39;49m\u001b[43mallow_unsupported_drivers\u001b[49m\u001b[43m,\u001b[49m\n\u001b[1;32m    343\u001b[0m \u001b[43m        \u001b[49m\u001b[38;5;241;43m*\u001b[39;49m\u001b[38;5;241;43m*\u001b[39;49m\u001b[43mkwargs\u001b[49m\n\u001b[1;32m    344\u001b[0m \u001b[43m    \u001b[49m\u001b[43m)\u001b[49m\n\u001b[1;32m    345\u001b[0m \u001b[38;5;28;01melif\u001b[39;00m mode \u001b[38;5;241m==\u001b[39m \u001b[38;5;124m\"\u001b[39m\u001b[38;5;124mw\u001b[39m\u001b[38;5;124m\"\u001b[39m:\n\u001b[1;32m    346\u001b[0m     colxn \u001b[38;5;241m=\u001b[39m Collection(\n\u001b[1;32m    347\u001b[0m         path,\n\u001b[1;32m    348\u001b[0m         mode,\n\u001b[0;32m   (...)\u001b[0m\n\u001b[1;32m    357\u001b[0m         \u001b[38;5;241m*\u001b[39m\u001b[38;5;241m*\u001b[39mkwargs\n\u001b[1;32m    358\u001b[0m     )\n",
      "File \u001b[0;32m/mnt/shared/moduleapps/EarthSci/Python-3.9.15-Mamba/lib/python3.9/site-packages/fiona/collection.py:234\u001b[0m, in \u001b[0;36mCollection.__init__\u001b[0;34m(self, path, mode, driver, schema, crs, encoding, layer, vsi, archive, enabled_drivers, crs_wkt, ignore_fields, ignore_geometry, include_fields, wkt_version, allow_unsupported_drivers, **kwargs)\u001b[0m\n\u001b[1;32m    232\u001b[0m \u001b[38;5;28;01mif\u001b[39;00m \u001b[38;5;28mself\u001b[39m\u001b[38;5;241m.\u001b[39mmode \u001b[38;5;241m==\u001b[39m \u001b[38;5;124m\"\u001b[39m\u001b[38;5;124mr\u001b[39m\u001b[38;5;124m\"\u001b[39m:\n\u001b[1;32m    233\u001b[0m     \u001b[38;5;28mself\u001b[39m\u001b[38;5;241m.\u001b[39msession \u001b[38;5;241m=\u001b[39m Session()\n\u001b[0;32m--> 234\u001b[0m     \u001b[38;5;28;43mself\u001b[39;49m\u001b[38;5;241;43m.\u001b[39;49m\u001b[43msession\u001b[49m\u001b[38;5;241;43m.\u001b[39;49m\u001b[43mstart\u001b[49m\u001b[43m(\u001b[49m\u001b[38;5;28;43mself\u001b[39;49m\u001b[43m,\u001b[49m\u001b[43m \u001b[49m\u001b[38;5;241;43m*\u001b[39;49m\u001b[38;5;241;43m*\u001b[39;49m\u001b[43mkwargs\u001b[49m\u001b[43m)\u001b[49m\n\u001b[1;32m    235\u001b[0m \u001b[38;5;28;01melif\u001b[39;00m \u001b[38;5;28mself\u001b[39m\u001b[38;5;241m.\u001b[39mmode \u001b[38;5;129;01min\u001b[39;00m (\u001b[38;5;124m\"\u001b[39m\u001b[38;5;124ma\u001b[39m\u001b[38;5;124m\"\u001b[39m, \u001b[38;5;124m\"\u001b[39m\u001b[38;5;124mw\u001b[39m\u001b[38;5;124m\"\u001b[39m):\n\u001b[1;32m    236\u001b[0m     \u001b[38;5;28mself\u001b[39m\u001b[38;5;241m.\u001b[39msession \u001b[38;5;241m=\u001b[39m WritingSession()\n",
      "File \u001b[0;32mfiona/ogrext.pyx:587\u001b[0m, in \u001b[0;36mfiona.ogrext.Session.start\u001b[0;34m()\u001b[0m\n",
      "File \u001b[0;32mfiona/ogrext.pyx:143\u001b[0m, in \u001b[0;36mfiona.ogrext.gdal_open_vector\u001b[0;34m()\u001b[0m\n",
      "\u001b[0;31mDriverError\u001b[0m: ../../grp-ct/data/processed/CHC-CMIP6/refugees/2050_SSP245.wbgtmax30.avg_count_07-16.shp: No such file or directory"
     ]
    }
   ],
   "source": [
    "# Open files \n",
    "countries = gpd.read_file('./ne_10m_admin_0_countries/ne_10m_admin_0_countries.shp')\n",
    "obs = gpd.read_file(os.path.join(path_out + 'obs.wbgtmax30.avg_count_07-16.shp'))\n",
    "ssp245 = gpd.read_file(os.path.join(path_out +  '2050_SSP245.wbgtmax30.avg_count_07-16.shp'))"
   ]
  },
  {
   "cell_type": "code",
   "execution_count": null,
   "id": "846f3baf",
   "metadata": {
    "scrolled": true
   },
   "outputs": [],
   "source": [
    "# Open refugee locs\n",
    "gdf_fn = os.path.join('./wrl_prp_p_unhcr_refugees_noLBN_onlySettlements-2024_02.geojson')\n",
    "gdf = gpd.read_file(gdf_fn)\n",
    "gdf.head(1)"
   ]
  },
  {
   "cell_type": "code",
   "execution_count": null,
   "id": "e3024e8d",
   "metadata": {},
   "outputs": [],
   "source": [
    "# drop antarctica\n",
    "countries = countries[countries['CONTINENT'] != 'Antarctica']"
   ]
  },
  {
   "cell_type": "code",
   "execution_count": null,
   "id": "96894c93",
   "metadata": {},
   "outputs": [],
   "source": [
    "# Define the custom colormap \n",
    "colors = [(1, 1, 0.7), (1, 0.65, 0), (1, 0, 0)] # Light yellow, orange, red\n",
    "custom_hot = mcolors.LinearSegmentedColormap.from_list('custom_hot', colors, N=256)"
   ]
  },
  {
   "cell_type": "code",
   "execution_count": null,
   "id": "3f4a0e15",
   "metadata": {},
   "outputs": [],
   "source": [
    "# Set up\n",
    "rcParams['mathtext.default'] = 'regular'  # Set text to regular, not italic \n",
    "plt.rcParams['font.size'] = 12\n",
    "hs = 0.01\n",
    "fig, axs = plt.subplots(3, 1, figsize=(10, 14), sharex=False)\n",
    "fig.subplots_adjust(left=None, bottom=None, right=None, top=None, wspace=0.1, hspace=.1)\n",
    "\n",
    "# Obs Map Plot \n",
    "countries.plot(ax=axs[0], edgecolor='black', linewidth=0.07, facecolor='grey')\n",
    "data = obs.sort_values('obs')\n",
    "data = data[data['obs'] <= 0]\n",
    "data.plot(ax=axs[0], color='white', markersize=10)\n",
    "data = obs.sort_values('obs')\n",
    "data = data[data['obs'] > 0]\n",
    "data.plot(ax=axs[0], column='obs', cmap=custom_hot, vmin=0, vmax=365, norm='linear', markersize=10)\n",
    "axs[0].set_facecolor('darkgrey')\n",
    "\n",
    "# Create insets for both maps with matching aspect ratios\n",
    "aspect_ratio = 1.2  # Adjust this to match your desired aspect ratio\n",
    "\n",
    "# Inset for West Africa (same aspect ratio)\n",
    "inset_ax1 = inset_axes(axs[0], width=\"140%\", height=\"90%\", loc='lower left', \n",
    "                       bbox_to_anchor=(-0.1, 0.26, 0.25, 0.25), bbox_transform=axs[0].transAxes, borderpad=2)\n",
    "countries.plot(ax=inset_ax1, edgecolor='black', linewidth=0.07, facecolor='grey', zorder = 1)\n",
    "#fn_in = os.path.join('../data/processed/CHC-CMIP6/CASA/interim/obs.wbgtmax30.avg_count_07-16_zeros.tif')\n",
    "#rst = rasterio.open(fn_in)  # Open raster\n",
    "#show(rst, ax=inset_ax1, cmap=custom_hot, vmin=0, vmax=365, norm='linear', transform=rst.transform, zorder = 3)\n",
    "#countries.plot(ax=inset_ax1, edgecolor='black', linewidth=0.07, facecolor='none', zorder =3)\n",
    "data = obs.sort_values('obs')\n",
    "data = data[data['obs'] <= 0]\n",
    "data.plot(ax=inset_ax1, markersize=15, color = 'white', zorder = 2)\n",
    "data = obs.sort_values('obs')\n",
    "data = data[data['obs'] > 0]\n",
    "data.plot(ax=inset_ax1, column='obs', cmap=custom_hot, markersize=15, zorder = 3)\n",
    "inset_ax1.set_xlim(-17.7, -10)\n",
    "inset_ax1.set_ylim(12, 12 + (17 - 12) / aspect_ratio)  # Adjust ylim based on aspect ratio\n",
    "inset_ax1.set_xticks([])\n",
    "inset_ax1.set_yticks([])\n",
    "inset_ax1.set_title('West Africa', fontsize=10)\n",
    "inset_ax1.patch.set_facecolor('darkgrey')  # Remove face color\n",
    "inset_ax1.patch.set_alpha(0)  # Ensure transparency\n",
    "for spine in inset_ax1.spines.values():\n",
    "    spine.set_edgecolor('cyan')\n",
    "    spine.set_linewidth(0.7)\n",
    "\n",
    "# Inset for East Africa (same aspect ratio)\n",
    "inset_ax2 = inset_axes(axs[0], width=\"143%\", height=\"93%\", loc='lower left', \n",
    "                       bbox_to_anchor=(-0.103, -0.08, 0.25, 0.25), bbox_transform=axs[0].transAxes, borderpad=2)\n",
    "countries.plot(ax=inset_ax2, edgecolor='black', linewidth=0.07, facecolor='grey', zorder = 1)\n",
    "#show(rst, ax=inset_ax2, cmap=custom_hot, vmin=0, vmax=365, norm='linear', transform=rst.transform, zorder = 3)\n",
    "#countries.plot(ax=inset_ax2, edgecolor='black', linewidth=0.07, facecolor='none', zorder =3)\n",
    "data = obs.sort_values('obs')\n",
    "data = data[data['obs'] <= 0]\n",
    "data.plot(ax=inset_ax2, markersize=15, color = 'white', zorder = 3)\n",
    "data = obs.sort_values('obs')\n",
    "data = data[data['obs'] > 0]\n",
    "data.plot(ax=inset_ax2, markersize=15, column='obs', cmap=custom_hot, zorder = 4)\n",
    "inset_ax2.set_xlim(35, 41.9)\n",
    "inset_ax2.set_ylim(13.4, 13.4 + (18 - 13.4) / aspect_ratio)  # Adjust ylim based on aspect ratio\n",
    "inset_ax2.set_xticks([])\n",
    "inset_ax2.set_yticks([])\n",
    "inset_ax2.set_title('East Africa', fontsize=10)\n",
    "inset_ax2.patch.set_facecolor('darkgrey')  # Remove face color\n",
    "inset_ax2.patch.set_alpha(0)  # Ensure transparency\n",
    "for spine in inset_ax2.spines.values():\n",
    "    spine.set_edgecolor('cyan')\n",
    "    spine.set_linewidth(0.7)\n",
    "\n",
    "# SSP 245 Map Plot\n",
    "countries.plot(ax=axs[1], edgecolor='black', linewidth=0.07, facecolor='grey')\n",
    "data = ssp245.sort_values('2050SSP245')\n",
    "data = data[data['2050SSP245'] <= 0]\n",
    "data.plot(ax=axs[1], color = 'white', markersize=10)\n",
    "data = ssp245.sort_values('2050SSP245')\n",
    "data = data[data['2050SSP245'] > 0]\n",
    "data.plot(ax=axs[1], column='2050SSP245', cmap=custom_hot, vmin=0, vmax=365, norm='linear', markersize=10)\n",
    "axs[1].set_facecolor('darkgrey')\n",
    "\n",
    "# Create insets for both maps with matching aspect ratios\n",
    "aspect_ratio = 1.2  # Adjust this to match your desired aspect ratio\n",
    "\n",
    "# Inset for West Africa (same aspect ratio)\n",
    "inset_ax3 = inset_axes(axs[1], width=\"140%\", height=\"90%\", loc='lower left', \n",
    "                       bbox_to_anchor=(-0.1, 0.26, 0.25, 0.25), bbox_transform=axs[1].transAxes, borderpad=2)\n",
    "countries.plot(ax=inset_ax3, edgecolor='black', linewidth=0.07, facecolor='grey', zorder = 1)\n",
    "#fn_in = os.path.join('../data/processed/CHC-CMIP6/CASA/interim/obs.wbgtmax30.avg_count_07-16_zeros.tif')\n",
    "#rst = rasterio.open(fn_in)  # Open raster\n",
    "#show(rst, ax=inset_ax1, cmap=custom_hot, vmin=0, vmax=365, norm='linear', transform=rst.transform, zorder = 3)\n",
    "#countries.plot(ax=inset_ax1, edgecolor='black', linewidth=0.07, facecolor='none', zorder =3)\n",
    "data = ssp245.sort_values('2050SSP245')\n",
    "data = data[data['2050SSP245'] <= 0]\n",
    "data.plot(ax=inset_ax3, markersize=15, color = 'white', zorder = 2)\n",
    "data = ssp245.sort_values('2050SSP245')\n",
    "data = data[data['2050SSP245'] > 0]\n",
    "data.plot(ax=inset_ax3, column='2050SSP245', cmap=custom_hot, markersize=15, zorder = 3)\n",
    "inset_ax3.set_xlim(-17.7, -10)\n",
    "inset_ax3.set_ylim(12, 12 + (17 - 12) / aspect_ratio)  # Adjust ylim based on aspect ratio\n",
    "inset_ax3.set_xticks([])\n",
    "inset_ax3.set_yticks([])\n",
    "inset_ax3.set_title('West Africa', fontsize=10)\n",
    "inset_ax3.patch.set_facecolor('darkgrey')  # Remove face color\n",
    "inset_ax3.patch.set_alpha(0)  # Ensure transparency\n",
    "for spine in inset_ax3.spines.values():\n",
    "    spine.set_edgecolor('cyan')\n",
    "    spine.set_linewidth(0.7)\n",
    "\n",
    "# Inset for East Africa (same aspect ratio)\n",
    "inset_ax4 = inset_axes(axs[1], width=\"143%\", height=\"93%\", loc='lower left', \n",
    "                       bbox_to_anchor=(-0.103, -0.08, 0.25, 0.25), bbox_transform=axs[1].transAxes, borderpad=2)\n",
    "countries.plot(ax=inset_ax4 , edgecolor='black', linewidth=0.07, facecolor='grey', zorder = 1)\n",
    "#show(rst, ax=inset_ax2, cmap=custom_hot, vmin=0, vmax=365, norm='linear', transform=rst.transform, zorder = 3)\n",
    "#countries.plot(ax=inset_ax2, edgecolor='black', linewidth=0.07, facecolor='none', zorder =3)\n",
    "data = ssp245.sort_values('2050SSP245')\n",
    "data = data[data['2050SSP245'] <= 0]\n",
    "data.plot(ax=inset_ax4, markersize=15, color = 'white', zorder = 2)\n",
    "data = ssp245.sort_values('2050SSP245')\n",
    "data = data[data['2050SSP245'] > 0]\n",
    "data.plot(ax=inset_ax4, markersize=15, column='2050SSP245', cmap=custom_hot, zorder = 4)\n",
    "inset_ax4.set_xlim(35, 41.9)\n",
    "inset_ax4.set_ylim(13.4, 13.4 + (18 - 13.4) / aspect_ratio)  # Adjust ylim based on aspect ratio\n",
    "inset_ax4.set_xticks([])\n",
    "inset_ax4.set_yticks([])\n",
    "inset_ax4.set_title('East Africa', fontsize=10)\n",
    "inset_ax4.patch.set_facecolor('darkgrey')  # Remove face color\n",
    "inset_ax4.patch.set_alpha(0)  # Ensure transparency\n",
    "for spine in inset_ax4.spines.values():\n",
    "    spine.set_edgecolor('cyan')\n",
    "    spine.set_linewidth(0.7)\n",
    "\n",
    "# Turn the grid border off\n",
    "axs[0].set_xticks([])\n",
    "axs[1].set_xticks([])\n",
    "axs[0].set_yticks([])\n",
    "axs[1].set_yticks([])\n",
    "\n",
    "# Top 15 SSP 245 \n",
    "data = ssp245.sort_values('2050SSP245', ascending=False).iloc[:15, :]\n",
    "data = pd.merge(data, gdf[['gis_name', 'pcode']], on='pcode', how='left')\n",
    "data['country'] = ['Eritrea', 'Ethiopia', 'Ethiopia', 'Ethiopia', 'Ethiopia', 'Ethiopia', 'Senegal', 'Senegal',\n",
    "                   'Senegal', 'Mali', 'Gambia', 'Gambia', 'Gambia', 'Gambia', 'Gambia']\n",
    "data['label'] = data['gis_name'] + ', ' + data['country']\n",
    "data = pd.merge(data, obs[['pcode', 'obs']], on='pcode', how='left')\n",
    "\n",
    "# Bar chart\n",
    "axs[2].barh(y=data['label'], width=data['2050SSP245'], color='darkred')\n",
    "axs[2].barh(y=data['label'], width=data['obs'], color='#ff8000')\n",
    "axs[2].set_xlim([0, 365])\n",
    "axs[2].legend(labels=['2050 (SSP245)', 'Avg. 2007-2016'])\n",
    "axs[2].set_xlabel('Days per Year WBGTmax > 30°C')\n",
    "\n",
    "# Color bar\n",
    "norm = mcolors.Normalize(vmin=0, vmax=365)\n",
    "cb_ax = fig.add_axes([.05, 0.48, 0.02, 0.3])\n",
    "cbar = fig.colorbar(cm.ScalarMappable(norm=norm, cmap=custom_hot), orientation='vertical', cax=cb_ax)\n",
    "cb_ax.text(-1.5, 69, 'Days per Year WBGTmax > 30°C', rotation=90)\n",
    "\n",
    "# Titles\n",
    "axs[0].set_title('Average Hazardous Heat Stress Days per Year, 2007-2016', fontsize=14)\n",
    "axs[1].set_title('Average Hazardous Heat Stress Days per Year, 2050 (SSP245)', fontsize=14)\n",
    "axs[2].set_title('Top 15 Hottest Refugee Camps in 2050 (SSP245)', fontsize=14)\n",
    "\n",
    "# Labels\n",
    "axs[0].text(-197, 95, '(A)', fontsize=14)\n",
    "axs[0].text(-197, -88, '(B)', fontsize=14)\n",
    "axs[1].text(-197, -84, '(C)', fontsize=14)\n",
    "\n",
    "# Highlight West and East Africa\n",
    "# Add a bounding box for the West Africa inset on the main map in Panel A (axs[0])\n",
    "bbox_west_africa = patches.Rectangle(\n",
    "    (-17.7, 12),  # Bottom-left corner (xmin, ymin)\n",
    "    7.7, 5,  # Width and height (difference between xlim and ylim)\n",
    "    linewidth=1, edgecolor='cyan', facecolor='none', zorder=4\n",
    ")\n",
    "axs[0].add_patch(bbox_west_africa)\n",
    "\n",
    "# Add a bounding box for the East Africa inset on the main map in Panel A (axs[0])\n",
    "bbox_east_africa = patches.Rectangle(\n",
    "    (35, 13.4),  # Bottom-left corner (xmin, ymin)\n",
    "    6.9, 4.6,  # Width and height (difference between xlim and ylim)\n",
    "    linewidth=1, edgecolor='cyan', facecolor='none', zorder=4\n",
    ")\n",
    "axs[0].add_patch(bbox_east_africa)\n",
    "\n",
    "# Similarly, add bounding boxes for the corresponding areas on the map in Panel B (axs[1])\n",
    "bbox_west_africa_b = patches.Rectangle(\n",
    "    (-17.7, 12),  # Bottom-left corner (xmin, ymin)\n",
    "    7.7, 5,  # Width and height\n",
    "    linewidth=1, edgecolor='cyan', facecolor='none', zorder=4\n",
    ")\n",
    "axs[1].add_patch(bbox_west_africa_b)\n",
    "\n",
    "bbox_east_africa_b = patches.Rectangle(\n",
    "    (35, 13.4),  # Bottom-left corner (xmin, ymin)\n",
    "    6.9, 4.6,  # Width and height\n",
    "    linewidth=1, edgecolor='cyan', facecolor='none', zorder=4\n",
    ")\n",
    "axs[1].add_patch(bbox_east_africa_b)\n",
    "\n",
    "# Save the figure\n",
    "fn_out = os.path.join('../data/figs/wbgt30_refugees_update_A.png')\n",
    "plt.savefig(fn_out, dpi=300, bbox_inches='tight')"
   ]
  },
  {
   "cell_type": "code",
   "execution_count": null,
   "id": "64e5b015",
   "metadata": {},
   "outputs": [],
   "source": [
    "# set up\n",
    "rcParams['mathtext.default'] = 'regular' # set text to reg, not italic \n",
    "plt.rcParams['font.size'] = 12\n",
    "hs = 0.01\n",
    "fig, axs = plt.subplots(3, 1, figsize = (10, 14), sharex=False)\n",
    "fig.subplots_adjust(left=None, bottom=None, right=None, top=None, wspace=0.1, hspace=.1)\n",
    "\n",
    "# Obs Map Plot \n",
    "countries.plot(ax=axs[0], edgecolor = 'black', linewidth = 0.07, facecolor = 'gray')\n",
    "data = obs.sort_values('obs')\n",
    "data.plot(ax = axs[0], column = 'obs', cmap = 'Reds', vmin = 0, vmax = 365, norm = 'linear', markersize = 10)\n",
    "axs[0].set_facecolor('darkgray')\n",
    "\n",
    "# SSP 245 Map Plot\n",
    "countries.plot(ax=axs[1], edgecolor = 'black', linewidth = 0.07, facecolor = 'gray')\n",
    "data = ssp245.sort_values('2050SSP245')\n",
    "data.plot(ax = axs[1], column = '2050SSP245', cmap = 'Reds', vmin = 0, vmax = 365, norm = 'linear', markersize = 10)\n",
    "axs[1].set_facecolor('darkgray')\n",
    "\n",
    "# turn the grid boarder off\n",
    "axs[0].set_xticks([]);\n",
    "axs[1].set_xticks([]);\n",
    "axs[0].set_yticks([]);\n",
    "axs[1].set_yticks([]);\n",
    "\n",
    "# Top 15 SSP 245 \n",
    "data = ssp245.sort_values('2050SSP245', ascending = False).iloc[:15, :]\n",
    "data = pd.merge(data, gdf[['gis_name', 'pcode']], on = 'pcode', how = 'left')\n",
    "data['country'] = ['Eritrea', 'Ethiopia', 'Ethiopia', 'Ethiopia', 'Ethiopia', 'Ethiopia', 'Senegal', 'Senegal',\n",
    "                  'Senegal', 'Mali', 'Gambia', 'Gambia', 'Gambia', 'Gambia', 'Gambia']\n",
    "data['label'] = data['gis_name'] + ', ' + data['country']\n",
    "data = pd.merge(data, obs[['pcode', 'obs']], on = 'pcode', how = 'left')\n",
    "\n",
    "# bar chart\n",
    "axs[2].barh(y = data['label'], width = data['2050SSP245'], color = 'darkred')\n",
    "axs[2].barh(y = data['label'], width = data['obs'], color = '#ff8000')\n",
    "axs[2].set_xlim([0, 365])\n",
    "axs[2].legend(labels = ['2050 (SSP245)', 'Avg. 2007-2016'])\n",
    "axs[2].set_xlabel('Days per Year WBGTmax > 30°C');\n",
    "\n",
    "# color bar\n",
    "norm = mcolors.Normalize(vmin=0, vmax=365)\n",
    "cb_ax = fig.add_axes([.05, 0.48, 0.02, 0.3])\n",
    "cbar = fig.colorbar(cm.ScalarMappable(norm=norm, cmap='Reds'), orientation='vertical', cax=cb_ax)\n",
    "cb_ax.text(-1.5,69,'Days per Year WBGTmax > 30°C',rotation=90);\n",
    "\n",
    "# titles\n",
    "axs[0].set_title('Average Hazardous Heat Stress Days per Year, 2007-2016', fontsize = 14)  #'WBGTmax Correlation'\n",
    "axs[1].set_title('Average Hazardous Heat Stress Days per Year, 2050 (SSP245)', fontsize = 14)\n",
    "axs[2].set_title('Top 15 Hottest Refugee Camps in 2050 (SSP245)', fontsize = 14)\n",
    "\n",
    "# labels\n",
    "axs[0].text(-197, 95, '(A)', fontsize = 14); #transform=axs[0].transAxes, size=15, fontweight='bold')\n",
    "axs[0].text(-197, -88, '(B)', fontsize = 14); #transform=axs[0].transAxes, size=15, fontweight='bold')\n",
    "axs[1].text(-197, -84, '(C)', fontsize = 14); #transform=axs[0].transAxes, size=15, fontweight='bold')\n",
    "\n",
    "# highlight W and E Africa\n",
    "rect11 = patches.Rectangle((-20, 9), 12, 12, linewidth=1.3, edgecolor='yellow', facecolor='none')\n",
    "rect21 = patches.Rectangle((-20, 9), 12, 12, linewidth=1.3, edgecolor='yellow', facecolor='none')\n",
    "axs[0].add_patch(rect11)\n",
    "axs[1].add_patch(rect21)\n",
    "rect21 = patches.Rectangle((35, 11.5), 8, 8, linewidth=1.3, edgecolor='yellow', facecolor='none')\n",
    "rect22 = patches.Rectangle((35, 11.5), 8, 8, linewidth=1.3, edgecolor='yellow', facecolor='none')\n",
    "axs[0].add_patch(rect21)\n",
    "axs[1].add_patch(rect22)\n",
    "\n",
    "# Save it\n",
    "fn_out = os.path.join('./wbgt30_refugees.png')\n",
    "plt.savefig(fn_out, dpi = 300, bbox_inches='tight')"
   ]
  }
 ],
 "metadata": {
  "kernelspec": {
   "display_name": "Python 3 (ipykernel)",
   "language": "python",
   "name": "python3"
  },
  "language_info": {
   "codemirror_mode": {
    "name": "ipython",
    "version": 3
   },
   "file_extension": ".py",
   "mimetype": "text/x-python",
   "name": "python",
   "nbconvert_exporter": "python",
   "pygments_lexer": "ipython3",
   "version": "3.9.15"
  }
 },
 "nbformat": 4,
 "nbformat_minor": 5
}
