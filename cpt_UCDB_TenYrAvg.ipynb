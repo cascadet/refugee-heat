{
 "cells": [
  {
   "cell_type": "markdown",
   "id": "a6384e93-5a3b-49c8-882e-11209e341f62",
   "metadata": {},
   "source": [
    "# GHS-UCDB\n",
    "Cascade Tuholske, Spring 2024  \n",
    "\n",
    "Notebook to find the area-average ten-year average count for heat for the GHS-UCSB. "
   ]
  },
  {
   "cell_type": "code",
   "execution_count": null,
   "id": "ebfabb8b-c19e-43f2-9a2c-dcd3f5d8f410",
   "metadata": {},
   "outputs": [],
   "source": [
    "# Dependencies \n",
    "import numpy as np\n",
    "import xarray \n",
    "import os\n",
    "import glob\n",
    "import rasterio\n",
    "import time\n",
    "import multiprocessing as mp \n",
    "from multiprocessing import Pool\n",
    "import sys\n",
    "import matplotlib.pyplot as plt\n",
    "import rasterstats\n",
    "import geopandas as gpd\n",
    "import xarray as xr\n",
    "from rasterstats import zonal_stats\n",
    "import matplotlib\n",
    "import pandas as pd"
   ]
  },
  {
   "cell_type": "markdown",
   "id": "36cbc7be-197c-49d2-bd79-990618e43598",
   "metadata": {},
   "source": [
    "## Ten year average"
   ]
  },
  {
   "cell_type": "code",
   "execution_count": null,
   "id": "8a069495",
   "metadata": {},
   "outputs": [],
   "source": [
    "def raster_avg(fns, fn_out):\n",
    "    \n",
    "    \"\"\"Average rasters over time\n",
    "    Args:\n",
    "        fns = list of tif files to average\n",
    "        fn_out = path/to/file/out\n",
    "    \"\"\"\n",
    "    \n",
    "    print(fns[-1])\n",
    "     \n",
    "    # Open the files into an Xarray Data Array\n",
    "    ds = xr.concat([xr.open_dataset(f) for f in fns], dim='band')\n",
    "    \n",
    "    # Get the ten year average as an array\n",
    "    avg = ds.band_data.mean(dim = 'band').data\n",
    "    \n",
    "    # write it to disk\n",
    "    avg = np.nan_to_num(avg, nan = -9999) # fill nan\n",
    "    meta = rasterio.open(fns[0]).meta # meta data\n",
    "\n",
    "    with rasterio.open(fn_out, 'w', **meta) as out:\n",
    "        out.write_band(1, avg)\n",
    "        \n",
    "    # clear memory\n",
    "    del(ds)\n",
    "    del(avg)\n",
    "    print('done')"
   ]
  },
  {
   "cell_type": "code",
   "execution_count": null,
   "id": "a7ce9d3e",
   "metadata": {},
   "outputs": [],
   "source": [
    "# data out \n",
    "ssp = '2050_SSP245' # '2050_SSP245' #'2050_SSP585' 'obs'\n",
    "data = 'himax'\n",
    "thresh = '41'"
   ]
  },
  {
   "cell_type": "code",
   "execution_count": null,
   "id": "03a7c135",
   "metadata": {
    "scrolled": true
   },
   "outputs": [],
   "source": [
    "# Select 2007 - 2016 counts\n",
    "path = '../../../grp-ct/data/processed/CHC-CMIP6/'\n",
    "fns = sorted(glob.glob(os.path.join(path, 'annual_counts/' + data + '/' + ssp + '*' + thresh + '*.tif')))[24:] # + ssp + thresh + '*.tif')))[24:]\n",
    "#fns = [f for f in fns if '2050_SSP245' not in f][24:] # filter and get top ten\n",
    "print(len(fns))\n",
    "fns"
   ]
  },
  {
   "cell_type": "code",
   "execution_count": null,
   "id": "7e581fc6",
   "metadata": {},
   "outputs": [],
   "source": [
    "# fn out\n",
    "fn_out = os.path.join(path, ssp + '.' +data + thresh + '.avg_count_07-16.tif')\n",
    "print(fn_out)"
   ]
  },
  {
   "cell_type": "code",
   "execution_count": null,
   "id": "00783fa8",
   "metadata": {},
   "outputs": [],
   "source": [
    "# run it\n",
    "raster_avg(fns, fn_out)"
   ]
  },
  {
   "cell_type": "code",
   "execution_count": null,
   "id": "f0a67201",
   "metadata": {},
   "outputs": [],
   "source": [
    "# check the data\n",
    "data = rasterio.open(fn_out).read(1)\n",
    "plt.imshow(data, vmin = 0)\n",
    "plt.colorbar(shrink = 0.5)\n",
    "plt.show()"
   ]
  },
  {
   "cell_type": "markdown",
   "id": "d11042b9-e1ea-4fe5-a1d8-42ab80b2504c",
   "metadata": {},
   "source": [
    "## Zonal Stats"
   ]
  },
  {
   "cell_type": "code",
   "execution_count": null,
   "id": "fd89dfe9",
   "metadata": {},
   "outputs": [],
   "source": [
    "# set up \n",
    "ssp = '2050_SSP245' #'2050_SSP585', obs, '2050_SSP245'\n",
    "col = '2050SSP245' # no _\n",
    "data = 'Tmax'\n",
    "thresh = '45'"
   ]
  },
  {
   "cell_type": "code",
   "execution_count": null,
   "id": "18301404",
   "metadata": {},
   "outputs": [],
   "source": [
    "# files\n",
    "path = '../data/processed/CHC-CMIP6/'\n",
    "fn_in = os.path.join(path, 'CASA/interim/' + ssp + '.' + data + thresh + '.avg_count_07-16.tif')\n",
    "fn_out = os.path.join(path, 'CASA/interim/' + ssp + '.' + data + thresh + '.avg_count_07-16.shp')"
   ]
  },
  {
   "cell_type": "code",
   "execution_count": null,
   "id": "247ef6de-e4f3-4428-9bef-fd79077615ed",
   "metadata": {},
   "outputs": [],
   "source": [
    "# Open GHS\n",
    "ghs_fn = os.path.join('../data/raw/GHS_STAT_UCDB2015MT_GLOBE_R2019A/GHS_STAT_UCDB2015MT_GLOBE_R2019A_V1_2.gpkg')\n",
    "ghs = gpd.read_file(ghs_fn)\n",
    "ghs.head(1)"
   ]
  },
  {
   "cell_type": "code",
   "execution_count": null,
   "id": "9dc36f82-8659-441e-97e7-db9e2068945a",
   "metadata": {},
   "outputs": [],
   "source": [
    "# subset columns needed\n",
    "polys_in = ghs[['ID_HDC_G0', 'geometry']]\n",
    "polys_in.head(1)"
   ]
  },
  {
   "cell_type": "code",
   "execution_count": null,
   "id": "a33f0986",
   "metadata": {},
   "outputs": [],
   "source": [
    "# check crs\n",
    "ghs.crs"
   ]
  },
  {
   "cell_type": "code",
   "execution_count": null,
   "id": "9bcec74e",
   "metadata": {},
   "outputs": [],
   "source": [
    "# check crs\n",
    "rasterio.open(fn_in).crs"
   ]
  },
  {
   "cell_type": "code",
   "execution_count": null,
   "id": "78781d78-d56a-4fd4-beb7-7e5975d30ca5",
   "metadata": {},
   "outputs": [],
   "source": [
    "# Run zonal stats\n",
    "stats_type = 'mean'\n",
    "zs_feats = zonal_stats(polys_in, fn_in, stats=stats_type, geojson_out=True, all_touched = True)\n",
    "zgdf = gpd.GeoDataFrame.from_features(zs_feats, crs=polys_in.crs)"
   ]
  },
  {
   "cell_type": "code",
   "execution_count": null,
   "id": "701a0f4d-f374-452d-86ab-feb8000f1bd8",
   "metadata": {},
   "outputs": [],
   "source": [
    "# check the data\n",
    "plt.hist(zgdf['mean'])"
   ]
  },
  {
   "cell_type": "code",
   "execution_count": null,
   "id": "ef64dda6-237a-4493-9255-6c13ffcc83a7",
   "metadata": {},
   "outputs": [],
   "source": [
    "# rename column\n",
    "zgdf.rename(columns = {'mean' : col}, inplace = True)\n",
    "zgdf"
   ]
  },
  {
   "cell_type": "code",
   "execution_count": null,
   "id": "09653bbe",
   "metadata": {},
   "outputs": [],
   "source": [
    "# check nan values\n",
    "zgdf[zgdf[col].isna()]"
   ]
  },
  {
   "cell_type": "code",
   "execution_count": null,
   "id": "5489cfc7-9123-4c62-bc7e-a4d974142ddb",
   "metadata": {},
   "outputs": [],
   "source": [
    "# Save It Out\n",
    "ghs_out = os.path.join(fn_out) # remove period '.' for Tmax obs\n",
    "zgdf.to_file(ghs_out, index=False)"
   ]
  },
  {
   "cell_type": "markdown",
   "id": "245753cb-eb7b-4822-ae80-1c1dee943676",
   "metadata": {},
   "source": [
    "# Merge Data Into Single .shp file + csv "
   ]
  },
  {
   "cell_type": "code",
   "execution_count": null,
   "id": "31908df0",
   "metadata": {
    "scrolled": true
   },
   "outputs": [],
   "source": [
    "# Select 2007 - 2016 counts\n",
    "path = '../data/processed/CHC-CMIP6/'"
   ]
  },
  {
   "cell_type": "code",
   "execution_count": null,
   "id": "822e9294-0656-467b-b7de-970687af22a7",
   "metadata": {
    "scrolled": true
   },
   "outputs": [],
   "source": [
    "# obs = gpd.read_file(os.path.join(path, 'CASA/interim/obs.wbgtmax30.avg_count_07-16.shp'))\n",
    "# ssp245 = gpd.read_file(os.path.join(path, 'CASA/interim/2050_SSP245.wbgtmax30.avg_count_07-16.shp'))\n",
    "# ssp585 = gpd.read_file(os.path.join(path, 'CASA/interim/2050_SSP585.wbgtmax30.avg_count_07-16.shp'))\n",
    "# fn_out = os.path.join(path, 'CASA/processed/wbgtmax30_avg_counts_07-16')"
   ]
  },
  {
   "cell_type": "code",
   "execution_count": null,
   "id": "1aed6175",
   "metadata": {
    "scrolled": true
   },
   "outputs": [],
   "source": [
    "obs = gpd.read_file(os.path.join(path, 'CASA/interim/obs.Tmax45.avg_count_07-16.shp'))\n",
    "ssp245 = gpd.read_file(os.path.join(path, 'CASA/interim/2050_SSP245.Tmax45.avg_count_07-16.shp'))\n",
    "ssp585 = gpd.read_file(os.path.join(path, 'CASA/interim/2050_SSP585.Tmax45.avg_count_07-16.shp'))\n",
    "fn_out = os.path.join(path, 'CASA/processed/Tmax45_avg_counts_07-16')"
   ]
  },
  {
   "cell_type": "code",
   "execution_count": null,
   "id": "dfc97070-1051-4594-a5da-7876f221330b",
   "metadata": {},
   "outputs": [],
   "source": [
    "out = pd.merge(obs[['ID_HDC_G0', 'obs']], ssp245[['ID_HDC_G0', '2050SSP245']], on = 'ID_HDC_G0', how = 'inner')\n",
    "out.head(1)"
   ]
  },
  {
   "cell_type": "code",
   "execution_count": null,
   "id": "8bbe13a0-f9fe-4793-8d94-17fb137b9bee",
   "metadata": {},
   "outputs": [],
   "source": [
    "out = pd.merge(out, ssp585[['ID_HDC_G0', '2050SSP585']], on = 'ID_HDC_G0', how = 'inner')\n",
    "out.head(1)"
   ]
  },
  {
   "cell_type": "code",
   "execution_count": null,
   "id": "c62e2fc8-45c0-4e84-a0d4-a14b6dbb37fb",
   "metadata": {},
   "outputs": [],
   "source": [
    "print(len(obs))\n",
    "print(len(out))"
   ]
  },
  {
   "cell_type": "code",
   "execution_count": null,
   "id": "9ed5eea7-9f81-455f-9203-15d41ff37adc",
   "metadata": {},
   "outputs": [],
   "source": [
    "gdf_out = gpd.GeoDataFrame(pd.merge(out, obs[['ID_HDC_G0', 'geometry']], on = 'ID_HDC_G0', how = 'inner'))\n",
    "gdf_out.head(1)"
   ]
  },
  {
   "cell_type": "code",
   "execution_count": null,
   "id": "06d21e15",
   "metadata": {},
   "outputs": [],
   "source": [
    "# shp\n",
    "gdf_out.to_file(fn_out + '.shp', index = False)"
   ]
  },
  {
   "cell_type": "code",
   "execution_count": null,
   "id": "a002913e",
   "metadata": {},
   "outputs": [],
   "source": [
    "# csv\n",
    "gdf_out.drop(columns = 'geometry').to_csv(fn_out + '.csv', index = False)"
   ]
  }
 ],
 "metadata": {
  "kernelspec": {
   "display_name": "Python 3 (ipykernel)",
   "language": "python",
   "name": "python3"
  },
  "language_info": {
   "codemirror_mode": {
    "name": "ipython",
    "version": 3
   },
   "file_extension": ".py",
   "mimetype": "text/x-python",
   "name": "python",
   "nbconvert_exporter": "python",
   "pygments_lexer": "ipython3",
   "version": "3.9.15"
  }
 },
 "nbformat": 4,
 "nbformat_minor": 5
}
